{
 "cells": [
  {
   "cell_type": "markdown",
   "metadata": {},
   "source": [
    "# Connectivity graph\n",
    "\n",
    "## Creating the input matrix"
   ]
  },
  {
   "cell_type": "code",
   "execution_count": 41,
   "metadata": {},
   "outputs": [],
   "source": [
    "import pyedflib\n",
    "import numpy as np\n",
    "\n",
    "def obtain_signal_matrix(filename):\n",
    "    \"\"\"\n",
    "    A method to obtain the (k, N) data point matrix of signals using the pyedflib package.\n",
    "    Args:\n",
    "        *filename*: str\n",
    "            The filename to open.\n",
    "    Returns:\n",
    "        *sigbufs*: np.array\n",
    "            A (k, N) matrix representing k channels and N samples.\n",
    "    References:\n",
    "    .. [1] The PyEDFlib package. To read EDF+/BDF+ files.\n",
    "           http://pyedflib.readthedocs.io/en/latest/#\n",
    "    \"\"\"\n",
    "    f = pyedflib.EdfReader(filename)\n",
    "    k, N = f.signals_in_file, f.getNSamples()[0]\n",
    "    \n",
    "    sigbufs = np.zeros((k, N))\n",
    "    for i in np.arange(k):\n",
    "        sigbufs[i, :] = f.readSignal(i)\n",
    "        \n",
    "    return sigbufs"
   ]
  },
  {
   "cell_type": "code",
   "execution_count": 42,
   "metadata": {},
   "outputs": [],
   "source": [
    "open_38 = obtain_signal_matrix(filename='../0. Dataset/eeg_data/S038R01.edf')"
   ]
  },
  {
   "cell_type": "markdown",
   "metadata": {},
   "source": [
    "## Verifying the channels and signals"
   ]
  },
  {
   "cell_type": "code",
   "execution_count": 36,
   "metadata": {},
   "outputs": [],
   "source": [
    "import matplotlib.pyplot as plt\n",
    "\n",
    "def plot_signal_channel(signal, channel=0, resolution=100):\n",
    "    \"\"\"\n",
    "    Plotting the signal of a channel using resolution samples.\n",
    "    Args:\n",
    "        *signal*: numpy.array\n",
    "            Array with data shape (k, N), k - number of channels and N - data points\n",
    "        *channel*: int\n",
    "            Channel that we want to plot. Must be a number between 0 and k-1\n",
    "        *resolution*: int\n",
    "            Number of samples we want to plot. Must be a number between 0 and N-1.\n",
    "    \"\"\"\n",
    "    x = np.arange(resolution)\n",
    "    y = signal[channel, :resolution]\n",
    "    _ = plt.plot(x, y, 'o')\n",
    "    plt.show()   "
   ]
  },
  {
   "cell_type": "code",
   "execution_count": 37,
   "metadata": {},
   "outputs": [
    {
     "data": {
      "image/png": "[encoded data removed]",
      "text/plain": [
       "<matplotlib.figure.Figure at 0x1a4065f59e8>"
      ]
     },
     "metadata": {},
     "output_type": "display_data"
    }
   ],
   "source": [
    "plot_signal_channel(open_38)"
   ]
  },
  {
   "cell_type": "markdown",
   "metadata": {},
   "source": [
    "## Obtaining the mvar model with DTF"
   ]
  },
  {
   "cell_type": "code",
   "execution_count": 16,
   "metadata": {},
   "outputs": [],
   "source": [
    "import connectivipy as cp\n",
    "\n",
    "mvar = cp.mvarmodel.Mvar()\n",
    "Av, Cf = mvar.fit(sigbufs)"
   ]
  },
  {
   "cell_type": "code",
   "execution_count": 20,
   "metadata": {},
   "outputs": [
    {
     "name": "stdout",
     "output_type": "stream",
     "text": [
      "(3, 64, 64)\n"
     ]
    }
   ],
   "source": [
    "print(Av.shape)"
   ]
  },
  {
   "cell_type": "code",
   "execution_count": 25,
   "metadata": {},
   "outputs": [],
   "source": []
  },
  {
   "cell_type": "code",
   "execution_count": null,
   "metadata": {},
   "outputs": [],
   "source": []
  }
 ],
 "metadata": {
  "kernelspec": {
   "display_name": "Python 3",
   "language": "python",
   "name": "python3"
  },
  "language_info": {
   "codemirror_mode": {
    "name": "ipython",
    "version": 3
   },
   "file_extension": ".py",
   "mimetype": "text/x-python",
   "name": "python",
   "nbconvert_exporter": "python",
   "pygments_lexer": "ipython3",
   "version": "3.6.3"
  }
 },
 "nbformat": 4,
 "nbformat_minor": 2
}
