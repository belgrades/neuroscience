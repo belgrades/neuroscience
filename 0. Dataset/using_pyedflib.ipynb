{
 "cells": [
  {
   "cell_type": "code",
   "execution_count": 1,
   "metadata": {},
   "outputs": [],
   "source": [
    "import pyedflib"
   ]
  },
  {
   "cell_type": "code",
   "execution_count": 2,
   "metadata": {},
   "outputs": [],
   "source": [
    "file = 'eeg_data/S038R01.edf'\n",
    "try:\n",
    "    f = pyedflib.EdfReader(file)\n",
    "except IOError:\n",
    "    print('cannot open', file)"
   ]
  },
  {
   "cell_type": "code",
   "execution_count": null,
   "metadata": {},
   "outputs": [],
   "source": [
    "np.testing.assert_equal(f.getStartdatetime(),datetimeSoll)\n",
    "np.testing.assert_equal(f.getPatientCode(), 'abcxyz99')\n",
    "np.testing.assert_equal(f.getPatientName(), 'Hans Muller')\n",
    "np.testing.assert_equal(f.getGender(), 'Male')\n",
    "np.testing.assert_equal(f.getBirthdate(), '30 jun 1969')\n",
    "np.testing.assert_equal(f.getPatientAdditional(), 'patient')\n",
    "np.testing.assert_equal(f.getAdmincode(), 'Dr. X')\n",
    "np.testing.assert_equal(f.getTechnician(), 'Mr. Spotty')\n",
    "np.testing.assert_equal(f.getEquipment(), 'test generator')\n",
    "np.testing.assert_equal(f.getRecordingAdditional(), 'unit test file')\n",
    "np.testing.assert_equal(f.getFileDuration(), 600)\n"
   ]
  }
 ],
 "metadata": {
  "kernelspec": {
   "display_name": "Python 3",
   "language": "python",
   "name": "python3"
  },
  "language_info": {
   "codemirror_mode": {
    "name": "ipython",
    "version": 3
   },
   "file_extension": ".py",
   "mimetype": "text/x-python",
   "name": "python",
   "nbconvert_exporter": "python",
   "pygments_lexer": "ipython3",
   "version": "3.6.3"
  }
 },
 "nbformat": 4,
 "nbformat_minor": 2
}
